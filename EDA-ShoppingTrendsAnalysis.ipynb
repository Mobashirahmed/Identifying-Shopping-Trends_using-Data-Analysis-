{
 "cells": [
  {
   "cell_type": "markdown",
   "id": "8e6cbbd1",
   "metadata": {},
   "source": [
    "# Shopology: Decoding Customer Shopping Trends\n",
    "---"
   ]
  },
  {
   "cell_type": "code",
   "execution_count": 1,
   "id": "7f3ddbfa",
   "metadata": {},
   "outputs": [
    {
     "name": "stdout",
     "output_type": "stream",
     "text": [
      "Defaulting to user installation because normal site-packages is not writeable\n",
      "Requirement already satisfied: numpy in c:\\users\\mobas\\appdata\\roaming\\python\\python313\\site-packages (2.2.2)\n",
      "Requirement already satisfied: pandas in c:\\users\\mobas\\appdata\\roaming\\python\\python313\\site-packages (2.2.3)\n",
      "Requirement already satisfied: seaborn in c:\\users\\mobas\\appdata\\roaming\\python\\python313\\site-packages (0.13.2)\n",
      "Requirement already satisfied: matplotlib in c:\\users\\mobas\\appdata\\roaming\\python\\python313\\site-packages (3.10.0)\n",
      "Requirement already satisfied: plotly in c:\\users\\mobas\\appdata\\roaming\\python\\python313\\site-packages (5.24.1)\n",
      "Requirement already satisfied: python-dateutil>=2.8.2 in c:\\users\\mobas\\appdata\\roaming\\python\\python313\\site-packages (from pandas) (2.9.0.post0)\n",
      "Requirement already satisfied: pytz>=2020.1 in c:\\users\\mobas\\appdata\\roaming\\python\\python313\\site-packages (from pandas) (2024.2)\n",
      "Requirement already satisfied: tzdata>=2022.7 in c:\\users\\mobas\\appdata\\roaming\\python\\python313\\site-packages (from pandas) (2025.1)\n",
      "Requirement already satisfied: contourpy>=1.0.1 in c:\\users\\mobas\\appdata\\roaming\\python\\python313\\site-packages (from matplotlib) (1.3.1)\n",
      "Requirement already satisfied: cycler>=0.10 in c:\\users\\mobas\\appdata\\roaming\\python\\python313\\site-packages (from matplotlib) (0.12.1)\n",
      "Requirement already satisfied: fonttools>=4.22.0 in c:\\users\\mobas\\appdata\\roaming\\python\\python313\\site-packages (from matplotlib) (4.55.6)\n",
      "Requirement already satisfied: kiwisolver>=1.3.1 in c:\\users\\mobas\\appdata\\roaming\\python\\python313\\site-packages (from matplotlib) (1.4.8)\n",
      "Requirement already satisfied: packaging>=20.0 in c:\\users\\mobas\\appdata\\roaming\\python\\python313\\site-packages (from matplotlib) (24.2)\n",
      "Requirement already satisfied: pillow>=8 in c:\\users\\mobas\\appdata\\roaming\\python\\python313\\site-packages (from matplotlib) (11.1.0)\n",
      "Requirement already satisfied: pyparsing>=2.3.1 in c:\\users\\mobas\\appdata\\roaming\\python\\python313\\site-packages (from matplotlib) (3.2.1)\n",
      "Requirement already satisfied: tenacity>=6.2.0 in c:\\users\\mobas\\appdata\\roaming\\python\\python313\\site-packages (from plotly) (9.0.0)\n",
      "Requirement already satisfied: six>=1.5 in c:\\users\\mobas\\appdata\\roaming\\python\\python313\\site-packages (from python-dateutil>=2.8.2->pandas) (1.17.0)\n"
     ]
    }
   ],
   "source": [
    "#installing necessary libraries\n",
    "!pip install numpy pandas seaborn matplotlib plotly"
   ]
  },
  {
   "cell_type": "code",
   "execution_count": 3,
   "id": "f28dfcd1",
   "metadata": {},
   "outputs": [],
   "source": [
    "# importing libraries\n",
    "import numpy as np # Importing the numpy library for array operations and mathematical functions\n",
    "import pandas as pd # Use for exploring the data \n",
    "import seaborn as sns # it has also plot\n",
    "import matplotlib.pyplot as plt # for some extra plot functions\n",
    "import plotly.express as px # for interactive plots"
   ]
  },
  {
   "cell_type": "code",
   "execution_count": 4,
   "id": "cb8d39f9-0a3c-4013-bfa5-3a84abd52d25",
   "metadata": {},
   "outputs": [],
   "source": [
    "# reading the data-set and assigning it to a variable data-farme\n",
    "shop = pd.read_csv('shopping_trends_updated.csv')"
   ]
  },
  {
   "cell_type": "code",
   "execution_count": 3,
   "id": "356c8ffd-d0d5-44e1-908c-5349645ea1fc",
   "metadata": {},
   "outputs": [
    {
     "data": {
      "text/plain": [
       "(3900, 18)"
      ]
     },
     "execution_count": 3,
     "metadata": {},
     "output_type": "execute_result"
    }
   ],
   "source": [
    "# getting the shape of the data-frame\n",
    "shop.shape"
   ]
  },
  {
   "cell_type": "code",
   "execution_count": 4,
   "id": "69f8542d",
   "metadata": {},
   "outputs": [
    {
     "name": "stdout",
     "output_type": "stream",
     "text": [
      "Defaulting to user installation because normal site-packages is not writeableNote: you may need to restart the kernel to use updated packages.\n",
      "\n",
      "Requirement already satisfied: openpyxl in c:\\users\\mobas\\appdata\\roaming\\python\\python313\\site-packages (3.1.5)\n",
      "Requirement already satisfied: et-xmlfile in c:\\users\\mobas\\appdata\\roaming\\python\\python313\\site-packages (from openpyxl) (2.0.0)\n"
     ]
    }
   ],
   "source": [
    "# installing openpyxl ,i.e. to read and write excel files\n",
    "%pip install openpyxl"
   ]
  },
  {
   "cell_type": "code",
   "execution_count": 5,
   "id": "5a6cf66a-a41d-4c6d-8355-675f42e24d16",
   "metadata": {},
   "outputs": [],
   "source": [
    "# exporting the data-set to excel file\n",
    "shop.to_excel('shopping_trends_updated.xlsx')"
   ]
  },
  {
   "cell_type": "code",
   "execution_count": 6,
   "id": "2a631e83",
   "metadata": {},
   "outputs": [],
   "source": [
    "# exporting the data-set to excel excluding row indices\n",
    "shop.to_excel('shopping_trends_updated0.xlsx', index = False)"
   ]
  },
  {
   "cell_type": "code",
   "execution_count": 5,
   "id": "e6263a95-c784-4eb4-bad9-36642d4e20c0",
   "metadata": {},
   "outputs": [
    {
     "data": {
      "text/html": [
       "<div>\n",
       "<style scoped>\n",
       "    .dataframe tbody tr th:only-of-type {\n",
       "        vertical-align: middle;\n",
       "    }\n",
       "\n",
       "    .dataframe tbody tr th {\n",
       "        vertical-align: top;\n",
       "    }\n",
       "\n",
       "    .dataframe thead th {\n",
       "        text-align: right;\n",
       "    }\n",
       "</style>\n",
       "<table border=\"1\" class=\"dataframe\">\n",
       "  <thead>\n",
       "    <tr style=\"text-align: right;\">\n",
       "      <th></th>\n",
       "      <th>Customer ID</th>\n",
       "      <th>Age</th>\n",
       "      <th>Gender</th>\n",
       "      <th>Item Purchased</th>\n",
       "      <th>Category</th>\n",
       "      <th>Purchase Amount (USD)</th>\n",
       "      <th>Location</th>\n",
       "      <th>Size</th>\n",
       "      <th>Color</th>\n",
       "      <th>Season</th>\n",
       "      <th>Review Rating</th>\n",
       "      <th>Subscription Status</th>\n",
       "      <th>Shipping Type</th>\n",
       "      <th>Discount Applied</th>\n",
       "      <th>Promo Code Used</th>\n",
       "      <th>Previous Purchases</th>\n",
       "      <th>Payment Method</th>\n",
       "      <th>Frequency of Purchases</th>\n",
       "    </tr>\n",
       "  </thead>\n",
       "  <tbody>\n",
       "    <tr>\n",
       "      <th>0</th>\n",
       "      <td>1</td>\n",
       "      <td>55</td>\n",
       "      <td>Male</td>\n",
       "      <td>Blouse</td>\n",
       "      <td>Clothing</td>\n",
       "      <td>53</td>\n",
       "      <td>Kentucky</td>\n",
       "      <td>L</td>\n",
       "      <td>Gray</td>\n",
       "      <td>Winter</td>\n",
       "      <td>3.1</td>\n",
       "      <td>Yes</td>\n",
       "      <td>Express</td>\n",
       "      <td>Yes</td>\n",
       "      <td>Yes</td>\n",
       "      <td>14</td>\n",
       "      <td>Venmo</td>\n",
       "      <td>Fortnightly</td>\n",
       "    </tr>\n",
       "    <tr>\n",
       "      <th>1</th>\n",
       "      <td>2</td>\n",
       "      <td>19</td>\n",
       "      <td>Male</td>\n",
       "      <td>Sweater</td>\n",
       "      <td>Clothing</td>\n",
       "      <td>64</td>\n",
       "      <td>Maine</td>\n",
       "      <td>L</td>\n",
       "      <td>Maroon</td>\n",
       "      <td>Winter</td>\n",
       "      <td>3.1</td>\n",
       "      <td>Yes</td>\n",
       "      <td>Express</td>\n",
       "      <td>Yes</td>\n",
       "      <td>Yes</td>\n",
       "      <td>2</td>\n",
       "      <td>Cash</td>\n",
       "      <td>Fortnightly</td>\n",
       "    </tr>\n",
       "    <tr>\n",
       "      <th>2</th>\n",
       "      <td>3</td>\n",
       "      <td>50</td>\n",
       "      <td>Male</td>\n",
       "      <td>Jeans</td>\n",
       "      <td>Clothing</td>\n",
       "      <td>73</td>\n",
       "      <td>Massachusetts</td>\n",
       "      <td>S</td>\n",
       "      <td>Maroon</td>\n",
       "      <td>Spring</td>\n",
       "      <td>3.1</td>\n",
       "      <td>Yes</td>\n",
       "      <td>Free Shipping</td>\n",
       "      <td>Yes</td>\n",
       "      <td>Yes</td>\n",
       "      <td>23</td>\n",
       "      <td>Credit Card</td>\n",
       "      <td>Weekly</td>\n",
       "    </tr>\n",
       "    <tr>\n",
       "      <th>3</th>\n",
       "      <td>4</td>\n",
       "      <td>21</td>\n",
       "      <td>Male</td>\n",
       "      <td>Sandals</td>\n",
       "      <td>Footwear</td>\n",
       "      <td>90</td>\n",
       "      <td>Rhode Island</td>\n",
       "      <td>M</td>\n",
       "      <td>Maroon</td>\n",
       "      <td>Spring</td>\n",
       "      <td>3.5</td>\n",
       "      <td>Yes</td>\n",
       "      <td>Next Day Air</td>\n",
       "      <td>Yes</td>\n",
       "      <td>Yes</td>\n",
       "      <td>49</td>\n",
       "      <td>PayPal</td>\n",
       "      <td>Weekly</td>\n",
       "    </tr>\n",
       "    <tr>\n",
       "      <th>4</th>\n",
       "      <td>5</td>\n",
       "      <td>45</td>\n",
       "      <td>Male</td>\n",
       "      <td>Blouse</td>\n",
       "      <td>Clothing</td>\n",
       "      <td>49</td>\n",
       "      <td>Oregon</td>\n",
       "      <td>M</td>\n",
       "      <td>Turquoise</td>\n",
       "      <td>Spring</td>\n",
       "      <td>2.7</td>\n",
       "      <td>Yes</td>\n",
       "      <td>Free Shipping</td>\n",
       "      <td>Yes</td>\n",
       "      <td>Yes</td>\n",
       "      <td>31</td>\n",
       "      <td>PayPal</td>\n",
       "      <td>Annually</td>\n",
       "    </tr>\n",
       "  </tbody>\n",
       "</table>\n",
       "</div>"
      ],
      "text/plain": [
       "   Customer ID  Age Gender Item Purchased  Category  Purchase Amount (USD)  \\\n",
       "0            1   55   Male         Blouse  Clothing                     53   \n",
       "1            2   19   Male        Sweater  Clothing                     64   \n",
       "2            3   50   Male          Jeans  Clothing                     73   \n",
       "3            4   21   Male        Sandals  Footwear                     90   \n",
       "4            5   45   Male         Blouse  Clothing                     49   \n",
       "\n",
       "        Location Size      Color  Season  Review Rating Subscription Status  \\\n",
       "0       Kentucky    L       Gray  Winter            3.1                 Yes   \n",
       "1          Maine    L     Maroon  Winter            3.1                 Yes   \n",
       "2  Massachusetts    S     Maroon  Spring            3.1                 Yes   \n",
       "3   Rhode Island    M     Maroon  Spring            3.5                 Yes   \n",
       "4         Oregon    M  Turquoise  Spring            2.7                 Yes   \n",
       "\n",
       "   Shipping Type Discount Applied Promo Code Used  Previous Purchases  \\\n",
       "0        Express              Yes             Yes                  14   \n",
       "1        Express              Yes             Yes                   2   \n",
       "2  Free Shipping              Yes             Yes                  23   \n",
       "3   Next Day Air              Yes             Yes                  49   \n",
       "4  Free Shipping              Yes             Yes                  31   \n",
       "\n",
       "  Payment Method Frequency of Purchases  \n",
       "0          Venmo            Fortnightly  \n",
       "1           Cash            Fortnightly  \n",
       "2    Credit Card                 Weekly  \n",
       "3         PayPal                 Weekly  \n",
       "4         PayPal               Annually  "
      ]
     },
     "execution_count": 5,
     "metadata": {},
     "output_type": "execute_result"
    }
   ],
   "source": [
    "# this will give us the first 5 rows of the data-set\n",
    "shop.head()"
   ]
  },
  {
   "cell_type": "code",
   "execution_count": 6,
   "id": "e7adee0a",
   "metadata": {},
   "outputs": [
    {
     "data": {
      "text/html": [
       "<div>\n",
       "<style scoped>\n",
       "    .dataframe tbody tr th:only-of-type {\n",
       "        vertical-align: middle;\n",
       "    }\n",
       "\n",
       "    .dataframe tbody tr th {\n",
       "        vertical-align: top;\n",
       "    }\n",
       "\n",
       "    .dataframe thead th {\n",
       "        text-align: right;\n",
       "    }\n",
       "</style>\n",
       "<table border=\"1\" class=\"dataframe\">\n",
       "  <thead>\n",
       "    <tr style=\"text-align: right;\">\n",
       "      <th></th>\n",
       "      <th>Customer ID</th>\n",
       "      <th>Age</th>\n",
       "      <th>Gender</th>\n",
       "      <th>Item Purchased</th>\n",
       "      <th>Category</th>\n",
       "      <th>Purchase Amount (USD)</th>\n",
       "      <th>Location</th>\n",
       "      <th>Size</th>\n",
       "      <th>Color</th>\n",
       "      <th>Season</th>\n",
       "      <th>Review Rating</th>\n",
       "      <th>Subscription Status</th>\n",
       "      <th>Shipping Type</th>\n",
       "      <th>Discount Applied</th>\n",
       "      <th>Promo Code Used</th>\n",
       "      <th>Previous Purchases</th>\n",
       "      <th>Payment Method</th>\n",
       "      <th>Frequency of Purchases</th>\n",
       "    </tr>\n",
       "  </thead>\n",
       "  <tbody>\n",
       "    <tr>\n",
       "      <th>3895</th>\n",
       "      <td>3896</td>\n",
       "      <td>40</td>\n",
       "      <td>Female</td>\n",
       "      <td>Hoodie</td>\n",
       "      <td>Clothing</td>\n",
       "      <td>28</td>\n",
       "      <td>Virginia</td>\n",
       "      <td>L</td>\n",
       "      <td>Turquoise</td>\n",
       "      <td>Summer</td>\n",
       "      <td>4.2</td>\n",
       "      <td>No</td>\n",
       "      <td>2-Day Shipping</td>\n",
       "      <td>No</td>\n",
       "      <td>No</td>\n",
       "      <td>32</td>\n",
       "      <td>Venmo</td>\n",
       "      <td>Weekly</td>\n",
       "    </tr>\n",
       "    <tr>\n",
       "      <th>3896</th>\n",
       "      <td>3897</td>\n",
       "      <td>52</td>\n",
       "      <td>Female</td>\n",
       "      <td>Backpack</td>\n",
       "      <td>Accessories</td>\n",
       "      <td>49</td>\n",
       "      <td>Iowa</td>\n",
       "      <td>L</td>\n",
       "      <td>White</td>\n",
       "      <td>Spring</td>\n",
       "      <td>4.5</td>\n",
       "      <td>No</td>\n",
       "      <td>Store Pickup</td>\n",
       "      <td>No</td>\n",
       "      <td>No</td>\n",
       "      <td>41</td>\n",
       "      <td>Bank Transfer</td>\n",
       "      <td>Bi-Weekly</td>\n",
       "    </tr>\n",
       "    <tr>\n",
       "      <th>3897</th>\n",
       "      <td>3898</td>\n",
       "      <td>46</td>\n",
       "      <td>Female</td>\n",
       "      <td>Belt</td>\n",
       "      <td>Accessories</td>\n",
       "      <td>33</td>\n",
       "      <td>New Jersey</td>\n",
       "      <td>L</td>\n",
       "      <td>Green</td>\n",
       "      <td>Spring</td>\n",
       "      <td>2.9</td>\n",
       "      <td>No</td>\n",
       "      <td>Standard</td>\n",
       "      <td>No</td>\n",
       "      <td>No</td>\n",
       "      <td>24</td>\n",
       "      <td>Venmo</td>\n",
       "      <td>Quarterly</td>\n",
       "    </tr>\n",
       "    <tr>\n",
       "      <th>3898</th>\n",
       "      <td>3899</td>\n",
       "      <td>44</td>\n",
       "      <td>Female</td>\n",
       "      <td>Shoes</td>\n",
       "      <td>Footwear</td>\n",
       "      <td>77</td>\n",
       "      <td>Minnesota</td>\n",
       "      <td>S</td>\n",
       "      <td>Brown</td>\n",
       "      <td>Summer</td>\n",
       "      <td>3.8</td>\n",
       "      <td>No</td>\n",
       "      <td>Express</td>\n",
       "      <td>No</td>\n",
       "      <td>No</td>\n",
       "      <td>24</td>\n",
       "      <td>Venmo</td>\n",
       "      <td>Weekly</td>\n",
       "    </tr>\n",
       "    <tr>\n",
       "      <th>3899</th>\n",
       "      <td>3900</td>\n",
       "      <td>52</td>\n",
       "      <td>Female</td>\n",
       "      <td>Handbag</td>\n",
       "      <td>Accessories</td>\n",
       "      <td>81</td>\n",
       "      <td>California</td>\n",
       "      <td>M</td>\n",
       "      <td>Beige</td>\n",
       "      <td>Spring</td>\n",
       "      <td>3.1</td>\n",
       "      <td>No</td>\n",
       "      <td>Store Pickup</td>\n",
       "      <td>No</td>\n",
       "      <td>No</td>\n",
       "      <td>33</td>\n",
       "      <td>Venmo</td>\n",
       "      <td>Quarterly</td>\n",
       "    </tr>\n",
       "  </tbody>\n",
       "</table>\n",
       "</div>"
      ],
      "text/plain": [
       "      Customer ID  Age  Gender Item Purchased     Category  \\\n",
       "3895         3896   40  Female         Hoodie     Clothing   \n",
       "3896         3897   52  Female       Backpack  Accessories   \n",
       "3897         3898   46  Female           Belt  Accessories   \n",
       "3898         3899   44  Female          Shoes     Footwear   \n",
       "3899         3900   52  Female        Handbag  Accessories   \n",
       "\n",
       "      Purchase Amount (USD)    Location Size      Color  Season  \\\n",
       "3895                     28    Virginia    L  Turquoise  Summer   \n",
       "3896                     49        Iowa    L      White  Spring   \n",
       "3897                     33  New Jersey    L      Green  Spring   \n",
       "3898                     77   Minnesota    S      Brown  Summer   \n",
       "3899                     81  California    M      Beige  Spring   \n",
       "\n",
       "      Review Rating Subscription Status   Shipping Type Discount Applied  \\\n",
       "3895            4.2                  No  2-Day Shipping               No   \n",
       "3896            4.5                  No    Store Pickup               No   \n",
       "3897            2.9                  No        Standard               No   \n",
       "3898            3.8                  No         Express               No   \n",
       "3899            3.1                  No    Store Pickup               No   \n",
       "\n",
       "     Promo Code Used  Previous Purchases Payment Method Frequency of Purchases  \n",
       "3895              No                  32          Venmo                 Weekly  \n",
       "3896              No                  41  Bank Transfer              Bi-Weekly  \n",
       "3897              No                  24          Venmo              Quarterly  \n",
       "3898              No                  24          Venmo                 Weekly  \n",
       "3899              No                  33          Venmo              Quarterly  "
      ]
     },
     "execution_count": 6,
     "metadata": {},
     "output_type": "execute_result"
    }
   ],
   "source": [
    "# this will give us the last 5 rows of the data-set\n",
    "shop.tail()"
   ]
  },
  {
   "cell_type": "code",
   "execution_count": 7,
   "id": "d68b8c47",
   "metadata": {},
   "outputs": [
    {
     "data": {
      "text/html": [
       "<div>\n",
       "<style scoped>\n",
       "    .dataframe tbody tr th:only-of-type {\n",
       "        vertical-align: middle;\n",
       "    }\n",
       "\n",
       "    .dataframe tbody tr th {\n",
       "        vertical-align: top;\n",
       "    }\n",
       "\n",
       "    .dataframe thead th {\n",
       "        text-align: right;\n",
       "    }\n",
       "</style>\n",
       "<table border=\"1\" class=\"dataframe\">\n",
       "  <thead>\n",
       "    <tr style=\"text-align: right;\">\n",
       "      <th></th>\n",
       "      <th>Customer ID</th>\n",
       "      <th>Age</th>\n",
       "      <th>Gender</th>\n",
       "      <th>Item Purchased</th>\n",
       "      <th>Category</th>\n",
       "      <th>Purchase Amount (USD)</th>\n",
       "      <th>Location</th>\n",
       "      <th>Size</th>\n",
       "      <th>Color</th>\n",
       "      <th>Season</th>\n",
       "      <th>Review Rating</th>\n",
       "      <th>Subscription Status</th>\n",
       "      <th>Shipping Type</th>\n",
       "      <th>Discount Applied</th>\n",
       "      <th>Promo Code Used</th>\n",
       "      <th>Previous Purchases</th>\n",
       "      <th>Payment Method</th>\n",
       "      <th>Frequency of Purchases</th>\n",
       "    </tr>\n",
       "  </thead>\n",
       "  <tbody>\n",
       "    <tr>\n",
       "      <th>2415</th>\n",
       "      <td>2416</td>\n",
       "      <td>21</td>\n",
       "      <td>Male</td>\n",
       "      <td>Coat</td>\n",
       "      <td>Outerwear</td>\n",
       "      <td>34</td>\n",
       "      <td>Hawaii</td>\n",
       "      <td>XL</td>\n",
       "      <td>Lavender</td>\n",
       "      <td>Fall</td>\n",
       "      <td>4.3</td>\n",
       "      <td>No</td>\n",
       "      <td>Standard</td>\n",
       "      <td>No</td>\n",
       "      <td>No</td>\n",
       "      <td>30</td>\n",
       "      <td>Bank Transfer</td>\n",
       "      <td>Weekly</td>\n",
       "    </tr>\n",
       "    <tr>\n",
       "      <th>1149</th>\n",
       "      <td>1150</td>\n",
       "      <td>21</td>\n",
       "      <td>Male</td>\n",
       "      <td>Jewelry</td>\n",
       "      <td>Accessories</td>\n",
       "      <td>42</td>\n",
       "      <td>Georgia</td>\n",
       "      <td>L</td>\n",
       "      <td>Cyan</td>\n",
       "      <td>Spring</td>\n",
       "      <td>3.3</td>\n",
       "      <td>No</td>\n",
       "      <td>Store Pickup</td>\n",
       "      <td>Yes</td>\n",
       "      <td>Yes</td>\n",
       "      <td>40</td>\n",
       "      <td>Venmo</td>\n",
       "      <td>Annually</td>\n",
       "    </tr>\n",
       "    <tr>\n",
       "      <th>3051</th>\n",
       "      <td>3052</td>\n",
       "      <td>44</td>\n",
       "      <td>Female</td>\n",
       "      <td>Sunglasses</td>\n",
       "      <td>Accessories</td>\n",
       "      <td>64</td>\n",
       "      <td>Wyoming</td>\n",
       "      <td>L</td>\n",
       "      <td>Gold</td>\n",
       "      <td>Summer</td>\n",
       "      <td>4.6</td>\n",
       "      <td>No</td>\n",
       "      <td>Express</td>\n",
       "      <td>No</td>\n",
       "      <td>No</td>\n",
       "      <td>49</td>\n",
       "      <td>Debit Card</td>\n",
       "      <td>Every 3 Months</td>\n",
       "    </tr>\n",
       "    <tr>\n",
       "      <th>1979</th>\n",
       "      <td>1980</td>\n",
       "      <td>49</td>\n",
       "      <td>Male</td>\n",
       "      <td>Jeans</td>\n",
       "      <td>Clothing</td>\n",
       "      <td>98</td>\n",
       "      <td>Tennessee</td>\n",
       "      <td>L</td>\n",
       "      <td>Blue</td>\n",
       "      <td>Spring</td>\n",
       "      <td>2.8</td>\n",
       "      <td>No</td>\n",
       "      <td>Store Pickup</td>\n",
       "      <td>No</td>\n",
       "      <td>No</td>\n",
       "      <td>38</td>\n",
       "      <td>Debit Card</td>\n",
       "      <td>Fortnightly</td>\n",
       "    </tr>\n",
       "    <tr>\n",
       "      <th>981</th>\n",
       "      <td>982</td>\n",
       "      <td>27</td>\n",
       "      <td>Male</td>\n",
       "      <td>Belt</td>\n",
       "      <td>Accessories</td>\n",
       "      <td>42</td>\n",
       "      <td>Maryland</td>\n",
       "      <td>M</td>\n",
       "      <td>Silver</td>\n",
       "      <td>Spring</td>\n",
       "      <td>3.5</td>\n",
       "      <td>Yes</td>\n",
       "      <td>Next Day Air</td>\n",
       "      <td>Yes</td>\n",
       "      <td>Yes</td>\n",
       "      <td>47</td>\n",
       "      <td>Credit Card</td>\n",
       "      <td>Quarterly</td>\n",
       "    </tr>\n",
       "  </tbody>\n",
       "</table>\n",
       "</div>"
      ],
      "text/plain": [
       "      Customer ID  Age  Gender Item Purchased     Category  \\\n",
       "2415         2416   21    Male           Coat    Outerwear   \n",
       "1149         1150   21    Male        Jewelry  Accessories   \n",
       "3051         3052   44  Female     Sunglasses  Accessories   \n",
       "1979         1980   49    Male          Jeans     Clothing   \n",
       "981           982   27    Male           Belt  Accessories   \n",
       "\n",
       "      Purchase Amount (USD)   Location Size     Color  Season  Review Rating  \\\n",
       "2415                     34     Hawaii   XL  Lavender    Fall            4.3   \n",
       "1149                     42    Georgia    L      Cyan  Spring            3.3   \n",
       "3051                     64    Wyoming    L      Gold  Summer            4.6   \n",
       "1979                     98  Tennessee    L      Blue  Spring            2.8   \n",
       "981                      42   Maryland    M    Silver  Spring            3.5   \n",
       "\n",
       "     Subscription Status Shipping Type Discount Applied Promo Code Used  \\\n",
       "2415                  No      Standard               No              No   \n",
       "1149                  No  Store Pickup              Yes             Yes   \n",
       "3051                  No       Express               No              No   \n",
       "1979                  No  Store Pickup               No              No   \n",
       "981                  Yes  Next Day Air              Yes             Yes   \n",
       "\n",
       "      Previous Purchases Payment Method Frequency of Purchases  \n",
       "2415                  30  Bank Transfer                 Weekly  \n",
       "1149                  40          Venmo               Annually  \n",
       "3051                  49     Debit Card         Every 3 Months  \n",
       "1979                  38     Debit Card            Fortnightly  \n",
       "981                   47    Credit Card              Quarterly  "
      ]
     },
     "execution_count": 7,
     "metadata": {},
     "output_type": "execute_result"
    }
   ],
   "source": [
    "# this will give us arbitarily any 5 rows from the data-set\n",
    "shop.sample(5)"
   ]
  },
  {
   "cell_type": "code",
   "execution_count": 8,
   "id": "b8251069-bc5f-46a7-82e1-ae78f22e32f0",
   "metadata": {},
   "outputs": [
    {
     "data": {
      "text/plain": [
       "Customer ID                 int64\n",
       "Age                         int64\n",
       "Gender                     object\n",
       "Item Purchased             object\n",
       "Category                   object\n",
       "Purchase Amount (USD)       int64\n",
       "Location                   object\n",
       "Size                       object\n",
       "Color                      object\n",
       "Season                     object\n",
       "Review Rating             float64\n",
       "Subscription Status        object\n",
       "Shipping Type              object\n",
       "Discount Applied           object\n",
       "Promo Code Used            object\n",
       "Previous Purchases          int64\n",
       "Payment Method             object\n",
       "Frequency of Purchases     object\n",
       "dtype: object"
      ]
     },
     "execution_count": 8,
     "metadata": {},
     "output_type": "execute_result"
    }
   ],
   "source": [
    "# it shows the data-types of the columns\n",
    "shop.dtypes"
   ]
  },
  {
   "cell_type": "code",
   "execution_count": 9,
   "id": "0c77e4d9-940c-4c67-bed0-2fa74689fc01",
   "metadata": {},
   "outputs": [
    {
     "data": {
      "text/plain": [
       "Index(['Customer ID', 'Age', 'Gender', 'Item Purchased', 'Category',\n",
       "       'Purchase Amount (USD)', 'Location', 'Size', 'Color', 'Season',\n",
       "       'Review Rating', 'Subscription Status', 'Shipping Type',\n",
       "       'Discount Applied', 'Promo Code Used', 'Previous Purchases',\n",
       "       'Payment Method', 'Frequency of Purchases'],\n",
       "      dtype='object')"
      ]
     },
     "execution_count": 9,
     "metadata": {},
     "output_type": "execute_result"
    }
   ],
   "source": [
    "# it shows the names of the columns \n",
    "shop.columns"
   ]
  },
  {
   "cell_type": "code",
   "execution_count": 10,
   "id": "e3155654-33d5-4492-bfb2-b3b96be2db57",
   "metadata": {},
   "outputs": [
    {
     "name": "stdout",
     "output_type": "stream",
     "text": [
      "<class 'pandas.core.frame.DataFrame'>\n",
      "RangeIndex: 3900 entries, 0 to 3899\n",
      "Data columns (total 18 columns):\n",
      " #   Column                  Non-Null Count  Dtype  \n",
      "---  ------                  --------------  -----  \n",
      " 0   Customer ID             3900 non-null   int64  \n",
      " 1   Age                     3900 non-null   int64  \n",
      " 2   Gender                  3900 non-null   object \n",
      " 3   Item Purchased          3900 non-null   object \n",
      " 4   Category                3900 non-null   object \n",
      " 5   Purchase Amount (USD)   3900 non-null   int64  \n",
      " 6   Location                3900 non-null   object \n",
      " 7   Size                    3900 non-null   object \n",
      " 8   Color                   3900 non-null   object \n",
      " 9   Season                  3900 non-null   object \n",
      " 10  Review Rating           3900 non-null   float64\n",
      " 11  Subscription Status     3900 non-null   object \n",
      " 12  Shipping Type           3900 non-null   object \n",
      " 13  Discount Applied        3900 non-null   object \n",
      " 14  Promo Code Used         3900 non-null   object \n",
      " 15  Previous Purchases      3900 non-null   int64  \n",
      " 16  Payment Method          3900 non-null   object \n",
      " 17  Frequency of Purchases  3900 non-null   object \n",
      "dtypes: float64(1), int64(4), object(13)\n",
      "memory usage: 548.6+ KB\n"
     ]
    }
   ],
   "source": [
    "# getting the information of each of the columns present in the data-set\n",
    "# this will give us the data-type, null-count and no. of rows of each column\n",
    "# In the end we've the memory usage of the data-set\n",
    "shop.info()"
   ]
  },
  {
   "cell_type": "code",
   "execution_count": 11,
   "id": "f91dc96f-9ecb-4ca3-9245-c866a44bf65e",
   "metadata": {},
   "outputs": [
    {
     "data": {
      "text/plain": [
       "Customer ID               0\n",
       "Age                       0\n",
       "Gender                    0\n",
       "Item Purchased            0\n",
       "Category                  0\n",
       "Purchase Amount (USD)     0\n",
       "Location                  0\n",
       "Size                      0\n",
       "Color                     0\n",
       "Season                    0\n",
       "Review Rating             0\n",
       "Subscription Status       0\n",
       "Shipping Type             0\n",
       "Discount Applied          0\n",
       "Promo Code Used           0\n",
       "Previous Purchases        0\n",
       "Payment Method            0\n",
       "Frequency of Purchases    0\n",
       "dtype: int64"
      ]
     },
     "execution_count": 11,
     "metadata": {},
     "output_type": "execute_result"
    }
   ],
   "source": [
    "# determining the number of missing values in each column\n",
    "shop.isnull().sum()"
   ]
  },
  {
   "cell_type": "code",
   "execution_count": 13,
   "id": "878ca58e-50c8-4401-a4dd-c338c75e3501",
   "metadata": {},
   "outputs": [
    {
     "name": "stdout",
     "output_type": "stream",
     "text": [
      "The unique values of the 'Gender' column are: ['Male' 'Female']\n",
      "\n",
      "The unique value of the 'Item Purchased' column are: ['Blouse' 'Sweater' 'Jeans' 'Sandals' 'Sneakers' 'Shirt' 'Shorts' 'Coat'\n",
      " 'Handbag' 'Shoes' 'Dress' 'Skirt' 'Sunglasses' 'Pants' 'Jacket' 'Hoodie'\n",
      " 'Jewelry' 'T-shirt' 'Scarf' 'Hat' 'Socks' 'Backpack' 'Belt' 'Boots'\n",
      " 'Gloves']\n",
      "\n",
      "The unique values of the 'Category' column are: ['Clothing' 'Footwear' 'Outerwear' 'Accessories']\n",
      "\n",
      "The unique value of the 'Location' column are: ['Kentucky' 'Maine' 'Massachusetts' 'Rhode Island' 'Oregon' 'Wyoming'\n",
      " 'Montana' 'Louisiana' 'West Virginia' 'Missouri' 'Arkansas' 'Hawaii'\n",
      " 'Delaware' 'New Hampshire' 'New York' 'Alabama' 'Mississippi'\n",
      " 'North Carolina' 'California' 'Oklahoma' 'Florida' 'Texas' 'Nevada'\n",
      " 'Kansas' 'Colorado' 'North Dakota' 'Illinois' 'Indiana' 'Arizona'\n",
      " 'Alaska' 'Tennessee' 'Ohio' 'New Jersey' 'Maryland' 'Vermont'\n",
      " 'New Mexico' 'South Carolina' 'Idaho' 'Pennsylvania' 'Connecticut' 'Utah'\n",
      " 'Virginia' 'Georgia' 'Nebraska' 'Iowa' 'South Dakota' 'Minnesota'\n",
      " 'Washington' 'Wisconsin' 'Michigan']\n",
      "\n",
      "The unique values of the 'Size' column are: ['L' 'S' 'M' 'XL']\n",
      "\n",
      "The unique value of the 'Color' column are: ['Gray' 'Maroon' 'Turquoise' 'White' 'Charcoal' 'Silver' 'Pink' 'Purple'\n",
      " 'Olive' 'Gold' 'Violet' 'Teal' 'Lavender' 'Black' 'Green' 'Peach' 'Red'\n",
      " 'Cyan' 'Brown' 'Beige' 'Orange' 'Indigo' 'Yellow' 'Magenta' 'Blue']\n",
      "\n",
      "The unique value of the 'Season' column are: ['Winter' 'Spring' 'Summer' 'Fall']\n",
      "\n",
      "The unique values of the 'Subscription Status' column are: ['Yes' 'No']\n",
      "\n",
      "The unique values of the 'Shipping Type' column are: ['Express' 'Free Shipping' 'Next Day Air' 'Standard' '2-Day Shipping'\n",
      " 'Store Pickup']\n",
      "\n",
      "The unique values of the 'Discount Applied' column are: ['Yes' 'No']\n",
      "\n",
      "The unique values of the 'Promo Code Used' column are: ['Yes' 'No']\n",
      "\n",
      "The unique values of the 'Payment Method' column are: ['Venmo' 'Cash' 'Credit Card' 'PayPal' 'Bank Transfer' 'Debit Card']\n",
      "\n",
      "The unique value of the 'Frequency of Purchases' column are: ['Fortnightly' 'Weekly' 'Annually' 'Quarterly' 'Bi-Weekly' 'Monthly'\n",
      " 'Every 3 Months']\n"
     ]
    }
   ],
   "source": [
    "# accessing unique values of the columns\n",
    "# applicable for object data-types\n",
    "print(f\"The unique values of the 'Gender' column are: {shop['Gender'].unique()}\")\n",
    "print()# This will print a blank line\n",
    "print(f\"The unique value of the 'Item Purchased' column are: {shop['Item Purchased'].unique()}\")\n",
    "print() # This will print a blank line\n",
    "print(f\"The unique values of the 'Category' column are: {shop['Category'].unique()}\")\n",
    "print()# This will print a blank line\n",
    "print(f\"The unique value of the 'Location' column are: {shop['Location'].unique()}\")\n",
    "print() # This will print a blank line\n",
    "print(f\"The unique values of the 'Size' column are: {shop['Size'].unique()}\")\n",
    "print()# This will print a blank line\n",
    "print(f\"The unique value of the 'Color' column are: {shop['Color'].unique()}\")\n",
    "print() # This will print a blank line\n",
    "print(f\"The unique value of the 'Season' column are: {shop['Season'].unique()}\")\n",
    "print() # This will print a blank line\n",
    "print(f\"The unique values of the 'Subscription Status' column are: {shop['Subscription Status'].unique()}\")\n",
    "print()# This will print a blank line\n",
    "print(f\"The unique values of the 'Shipping Type' column are: {shop['Shipping Type'].unique()}\")\n",
    "print()# This will print a blank line\n",
    "print(f\"The unique values of the 'Discount Applied' column are: {shop['Discount Applied'].unique()}\")\n",
    "print()# This will print a blank line\n",
    "print(f\"The unique values of the 'Promo Code Used' column are: {shop['Promo Code Used'].unique()}\")\n",
    "print()# This will print a blank line\n",
    "print(f\"The unique values of the 'Payment Method' column are: {shop['Payment Method'].unique()}\")\n",
    "print() # This will print a blank line\n",
    "print(f\"The unique value of the 'Frequency of Purchases' column are: {shop['Frequency of Purchases'].unique()}\")"
   ]
  },
  {
   "cell_type": "markdown",
   "id": "cd1b9111-5969-4d7d-96e4-e30da9684a3d",
   "metadata": {},
   "source": [
    "## OBSERVATION:\n",
    "Upon initial examination of the dataset, it is evident that we have a comprehensive and well-structured dataset with 3900 rows and 18 columns. The data is complete, with no missing values, which allows us to proceed confidently with our analysis.\n",
    "\n",
    "Let's delve into the columns and their significance in understanding our custome      \n",
    "\n",
    "-  **Customer ID:** This column serves as a unique identifier for each customer, enabling us to differentiate between individuals.\n",
    "-  **Age:** The age column provides insights into the age demographics of our customers, helping us understand their preferences and behaviors.\n",
    "-  **Gender:** This column showcases the gender of the customers, enabling us to analyze buying patterns based on gender.\n",
    "-  **Item Purchased:** Here, we can identify the specific products that customers have bought, allowing us to gain an understanding of popular choices.\n",
    "-  **Category:** The category column categorizes the products into different groups such as clothing, footwear, and more, aiding us in analyzing trends within specific product categories.\n",
    "-  **Purchase Amount (USD):** This column reveals the amount customers spent on their purchases, providing insights into their spending habits.\n",
    "-  **Location:** The location column indicates the geographical location of customers, which can help identify regional trends and preferences.\n",
    "-  **Size:** This column denotes the size of the purchased products, assisting in understanding size preferences across different categories.\n",
    "-  **Color:** Here, we can determine the color preferences of customers, aiding in analyzing color trends and their impact on purchasing decisions.\n",
    "-  **Season:** The season column allows us to identify the season during which customers made their purchases, enabling us to explore seasonal shopping trends.\n",
    "-  **Review Rating:** This column showcases the ratings given by customers, providing valuable feedback on product satisfaction and quality.\n",
    "-  **Subscription Status:** This column indicates whether customers have opted for a subscription status, which can help us understand customer loyalty and engagement.\n",
    "-  **Shipping Type:** Here, we can identify the different shipping methods used to deliver products to customers, shedding light on preferred shipping options.\n",
    "-  **Discount Applied:** This column indicates whether a discount was applied to the purchased products, enabling us to analyze the impact of discounts on customer behavior.\n",
    "-  **Promo Code Used:** Here, we can identify whether customers utilized promo codes during their purchases, helping us evaluate the effectiveness of promotional campaigns.\n",
    "-  **Previous Purchases:** This column reveals the number of previous purchases made by customers, aiding in understanding customer loyalty and repeat business.\n",
    "-  **Payment Method:** The payment method column showcases the various methods used by customers to make their purchases, allowing us to analyze preferred payment options.\n",
    "-  **Frequency of Purchases:** This column provides insights into the frequency at which customers make purchases, helping us identify patterns and customer buying habits.\n",
    "\n",
    "Customer buying habits.\n",
    "With this rich and diverse dataset, we are well-equipped to explore customer shopping trends, understand their preferences, and uncover valuable insights that can drive informed decision-making and enhance the overall customer experience. Let's embark on this exciting analysis journey!\n",
    "\n"
   ]
  },
  {
   "cell_type": "markdown",
   "id": "2dae46f6-9436-4835-8199-202c22f44e40",
   "metadata": {},
   "source": [
    "# Questions:\n",
    "---\n",
    "## 1 What is the overall distribution of customer ages in the dataset?"
   ]
  },
  {
   "cell_type": "code",
   "execution_count": null,
   "id": "d0751254-5655-43f5-9a70-ad6389e7e23f",
   "metadata": {},
   "outputs": [],
   "source": [
    "shop['Age'].value_counts()"
   ]
  },
  {
   "cell_type": "code",
   "execution_count": null,
   "id": "a4a59f39-6b74-467d-bd44-cae9b971b787",
   "metadata": {},
   "outputs": [],
   "source": [
    "shop['Age'].mean()"
   ]
  },
  {
   "cell_type": "code",
   "execution_count": null,
   "id": "22fe6b77-0893-4b19-bb73-ee11124ed9db",
   "metadata": {},
   "outputs": [],
   "source": [
    "shop['Gender'].unique()"
   ]
  },
  {
   "cell_type": "code",
   "execution_count": 5,
   "id": "a4580d69-78f6-4743-8749-080d0c69bb6a",
   "metadata": {},
   "outputs": [],
   "source": [
    "shop['Age_category'] = pd.cut(shop['Age'], bins= [0,15, 18 , 30 , 50 , 70] , labels= ['child' , 'teen' , 'Young Adults' ,'Middle-Aged Adults' , 'old'] )"
   ]
  },
  {
   "cell_type": "code",
   "execution_count": null,
   "id": "8b0588da",
   "metadata": {},
   "outputs": [],
   "source": [
    "# installing nbformat required to use show()\n",
    "%pip install nbformat"
   ]
  },
  {
   "cell_type": "code",
   "execution_count": 4,
   "id": "a4da1116",
   "metadata": {},
   "outputs": [],
   "source": [
    "# importting nbformat\n",
    "import nbformat"
   ]
  },
  {
   "cell_type": "code",
   "execution_count": null,
   "id": "f1254544-ab85-4879-9db4-563eda07c874",
   "metadata": {},
   "outputs": [],
   "source": [
    "fig = px.histogram(shop , y = 'Age' , x = 'Age_category')\n",
    "fig.show()"
   ]
  },
  {
   "cell_type": "markdown",
   "id": "90ba091a-8550-4547-9625-67fe41354078",
   "metadata": {},
   "source": [
    "## 2 How does the average purchase amount vary across different product categories?"
   ]
  },
  {
   "cell_type": "code",
   "execution_count": null,
   "id": "00968bc9-977c-4a10-bc1f-ba28b0f986c2",
   "metadata": {},
   "outputs": [],
   "source": [
    "shop.columns"
   ]
  },
  {
   "cell_type": "code",
   "execution_count": null,
   "id": "bc0195f4-6f70-481b-8100-2271a0f42d41",
   "metadata": {},
   "outputs": [],
   "source": [
    "shop['Category'].unique()"
   ]
  },
  {
   "cell_type": "code",
   "execution_count": null,
   "id": "7c5f6e1f",
   "metadata": {},
   "outputs": [],
   "source": [
    "shop['Category']"
   ]
  },
  {
   "cell_type": "code",
   "execution_count": null,
   "id": "b53b2dc1-1c15-4925-9826-1fcc269d3467",
   "metadata": {},
   "outputs": [],
   "source": [
    "shop.groupby('Category')['Purchase Amount (USD)'].mean()"
   ]
  },
  {
   "cell_type": "markdown",
   "id": "da2e803d-dd65-49ef-bd6b-b1aeda7ffbc1",
   "metadata": {},
   "source": [
    "## 3 Which gender has the highest number of purchases?"
   ]
  },
  {
   "cell_type": "code",
   "execution_count": null,
   "id": "bc63da3a-9061-44c4-88a0-0d3c04ce6dde",
   "metadata": {},
   "outputs": [],
   "source": [
    "shop.columns"
   ]
  },
  {
   "cell_type": "code",
   "execution_count": null,
   "id": "144d34b0-5fdc-455e-8d96-c6ff85c8c723",
   "metadata": {},
   "outputs": [],
   "source": [
    "sns.barplot(shop , x = 'Gender' , y = 'Purchase Amount (USD)')"
   ]
  },
  {
   "cell_type": "markdown",
   "id": "fceb1814-09d8-4f39-8d01-8e4122369ff1",
   "metadata": {},
   "source": [
    "## 4 What are the most commonly purchased items in each category?"
   ]
  },
  {
   "cell_type": "code",
   "execution_count": null,
   "id": "dd058c0d-7f51-4d86-9234-ad39ed6e03b6",
   "metadata": {},
   "outputs": [],
   "source": [
    "shop.columns"
   ]
  },
  {
   "cell_type": "code",
   "execution_count": null,
   "id": "6f895c48-7a06-4544-a605-d9e4fc16d233",
   "metadata": {},
   "outputs": [],
   "source": [
    "shop.groupby('Category')['Item Purchased'].value_counts()"
   ]
  },
  {
   "cell_type": "code",
   "execution_count": null,
   "id": "c7c9caea-d899-4cf8-88ad-39fb37e5b4e6",
   "metadata": {},
   "outputs": [],
   "source": [
    "fig = px.histogram(shop , x = 'Item Purchased' , color = 'Category')\n",
    "fig.show()"
   ]
  },
  {
   "cell_type": "markdown",
   "id": "c2d8ce2a-6a6f-4598-af78-a3128daade1c",
   "metadata": {},
   "source": [
    "## 5 Are there any specific seasons or months where customer spending is significantly higher?"
   ]
  },
  {
   "cell_type": "code",
   "execution_count": null,
   "id": "78ac5ef3-b719-4ed0-86cd-3ab41425770f",
   "metadata": {},
   "outputs": [],
   "source": [
    "shop['Season'].unique()"
   ]
  },
  {
   "cell_type": "code",
   "execution_count": null,
   "id": "c74102e4-553c-48a9-b7f0-abe118f7fa73",
   "metadata": {},
   "outputs": [],
   "source": [
    "shop[shop['Season'] == 'Summer'].value_counts().sum()"
   ]
  },
  {
   "cell_type": "code",
   "execution_count": null,
   "id": "bf8308c7-be59-4983-b0ac-e9b5ad3fcc85",
   "metadata": {},
   "outputs": [],
   "source": [
    "shop[shop['Season'] == 'Winter'].value_counts().sum()"
   ]
  },
  {
   "cell_type": "code",
   "execution_count": null,
   "id": "9cdf47f1-35dc-4e20-a981-c0a4590a6218",
   "metadata": {},
   "outputs": [],
   "source": [
    "shop[shop['Season'] == 'Spring'].value_counts().sum()"
   ]
  },
  {
   "cell_type": "code",
   "execution_count": null,
   "id": "5c53ed99-0609-46ef-8499-25a9bf001157",
   "metadata": {},
   "outputs": [],
   "source": [
    "shop[shop['Season'] == 'Fall'].value_counts().sum()"
   ]
  },
  {
   "cell_type": "code",
   "execution_count": null,
   "id": "13141c0e-3840-487a-9e09-69f015b63df5",
   "metadata": {},
   "outputs": [],
   "source": [
    "fig = px.histogram(shop , x = 'Season' , range_y= [200 , 1500] )\n",
    "\n",
    "fig.show()"
   ]
  },
  {
   "cell_type": "markdown",
   "id": "c235c070-87d6-4827-8a50-f24087bec1b8",
   "metadata": {},
   "source": [
    "## 6 What is the average rating given by customers for each product category?"
   ]
  },
  {
   "cell_type": "code",
   "execution_count": 34,
   "id": "722c8493-1667-4c9a-9d1d-2f5920ccbf43",
   "metadata": {},
   "outputs": [],
   "source": [
    "shop_groupby = shop.groupby('Category')['Review Rating'].mean().reset_index()"
   ]
  },
  {
   "cell_type": "code",
   "execution_count": null,
   "id": "556a9bf7-4b62-48f1-9d2b-79d5aadfd899",
   "metadata": {},
   "outputs": [],
   "source": [
    "fig = px.bar(shop_groupby ,x= 'Category' , y = 'Review Rating' )\n",
    "fig.show()"
   ]
  },
  {
   "cell_type": "markdown",
   "id": "a570bf66-e2d2-4ff8-85dc-94803636672b",
   "metadata": {},
   "source": [
    "## 7 Are there any notable differences in purchase behavior between subscribed and non-subscribed customers?"
   ]
  },
  {
   "cell_type": "code",
   "execution_count": null,
   "id": "2bdc867b-9c3a-4312-98fa-922a00b8c5e8",
   "metadata": {},
   "outputs": [],
   "source": [
    "shop.columns"
   ]
  },
  {
   "cell_type": "code",
   "execution_count": null,
   "id": "b8c0a3e7-ac5e-49a8-bf65-cfd50b382eef",
   "metadata": {},
   "outputs": [],
   "source": [
    "shop['Subscription Status'].unique()"
   ]
  },
  {
   "cell_type": "code",
   "execution_count": null,
   "id": "66f9f71e-0987-4bdf-84f1-aab74d91bc5f",
   "metadata": {},
   "outputs": [],
   "source": [
    "sns.barplot(shop  , x = 'Subscription Status' , y = 'Purchase Amount (USD)')"
   ]
  },
  {
   "cell_type": "code",
   "execution_count": null,
   "id": "5e13b268-37d9-42dc-80eb-8d6a5b99d537",
   "metadata": {},
   "outputs": [],
   "source": [
    "shop['Purchase Amount (USD)'].sum()"
   ]
  },
  {
   "cell_type": "code",
   "execution_count": null,
   "id": "eff4c43b-6864-41d0-98df-ccfd84909335",
   "metadata": {},
   "outputs": [],
   "source": [
    "shop.groupby('Subscription Status')['Purchase Amount (USD)'].mean()"
   ]
  },
  {
   "cell_type": "markdown",
   "id": "e1608fa3-f31e-48dd-afed-d411eed3b5c8",
   "metadata": {},
   "source": [
    "## 8 Which payment method is the most popular among customers?"
   ]
  },
  {
   "cell_type": "code",
   "execution_count": null,
   "id": "b206efc9-b92c-49d5-9a93-7246a360da71",
   "metadata": {},
   "outputs": [],
   "source": [
    "shop.groupby('Payment Method')['Purchase Amount (USD)'].mean().sort_values(ascending= False)"
   ]
  },
  {
   "cell_type": "code",
   "execution_count": 42,
   "id": "179f61b2-4598-45a9-8809-37838d2631fc",
   "metadata": {},
   "outputs": [],
   "source": [
    "shop_groupby = shop.groupby('Payment Method')['Purchase Amount (USD)'].mean().reset_index()"
   ]
  },
  {
   "cell_type": "code",
   "execution_count": null,
   "id": "92fc2bac-bdcb-4323-ae0a-4449838b83ba",
   "metadata": {},
   "outputs": [],
   "source": [
    "fig = px.bar(shop_groupby , x = 'Payment Method' , y = 'Purchase Amount (USD)')\n",
    "fig.show()"
   ]
  },
  {
   "cell_type": "code",
   "execution_count": null,
   "id": "a4fc1e99-996a-473f-a3b2-d4e48f29c299",
   "metadata": {},
   "outputs": [],
   "source": [
    "sns.barplot(shop ,x='Payment Method' , y = 'Purchase Amount (USD)')"
   ]
  },
  {
   "cell_type": "markdown",
   "id": "3fe09b80-bcba-4005-96ca-c12b735a6e12",
   "metadata": {},
   "source": [
    "## 9 Do customers who use promo codes tend to spend more than those who don't?"
   ]
  },
  {
   "cell_type": "code",
   "execution_count": 45,
   "id": "d4091829-925b-45a6-bcab-9dac0e17653b",
   "metadata": {},
   "outputs": [],
   "source": [
    "shop_groupby  = shop.groupby('Promo Code Used')['Purchase Amount (USD)'].sum().reset_index()"
   ]
  },
  {
   "cell_type": "code",
   "execution_count": null,
   "id": "c6622e5d-d561-45ae-8638-7c2103be7030",
   "metadata": {},
   "outputs": [],
   "source": [
    "fig = px.sunburst(shop , path=['Gender' , 'Promo Code Used'] , values='Purchase Amount (USD)')\n",
    "fig.show()"
   ]
  },
  {
   "cell_type": "code",
   "execution_count": null,
   "id": "2d8b4900-6932-4040-bcf9-2bd7db8d7c34",
   "metadata": {},
   "outputs": [],
   "source": [
    "fig  =  px.bar(shop_groupby , x= 'Promo Code Used' , y = 'Purchase Amount (USD)')\n",
    "fig.show()"
   ]
  },
  {
   "cell_type": "markdown",
   "id": "843e7921-345a-43ff-8cc5-27b663d571e3",
   "metadata": {},
   "source": [
    "## 10 How does the frequency of purchases vary across different age groups?"
   ]
  },
  {
   "cell_type": "code",
   "execution_count": null,
   "id": "464a8815-a0fb-469c-a514-2e66eb803cc6",
   "metadata": {},
   "outputs": [],
   "source": [
    "shop[['Age' , 'Age_category']]"
   ]
  },
  {
   "cell_type": "code",
   "execution_count": null,
   "id": "fb8f8552-0645-4388-9a41-5d55af9f9e2b",
   "metadata": {},
   "outputs": [],
   "source": [
    "shop['Age_category'].unique()"
   ]
  },
  {
   "cell_type": "code",
   "execution_count": 50,
   "id": "da345838-6cb8-4b31-934a-c383187fd817",
   "metadata": {},
   "outputs": [],
   "source": [
    "shop_group = shop.groupby('Frequency of Purchases')['Age'].sum()"
   ]
  },
  {
   "cell_type": "code",
   "execution_count": null,
   "id": "4b57b9e9-c8e8-4dc0-a1fd-459f8602c9b7",
   "metadata": {},
   "outputs": [],
   "source": [
    "px.sunburst(shop , path=['Frequency of Purchases','Age_category'] , values='Age')"
   ]
  },
  {
   "cell_type": "markdown",
   "id": "f3bf2047-439b-4c05-b2d1-559bdec27d1f",
   "metadata": {},
   "source": [
    "## 11 Are there any correlations between the size of the product and the purchase amount?"
   ]
  },
  {
   "cell_type": "code",
   "execution_count": null,
   "id": "6462feac-bc50-4a4b-9dda-6186fd46dbb9",
   "metadata": {},
   "outputs": [],
   "source": [
    "shop.columns"
   ]
  },
  {
   "cell_type": "code",
   "execution_count": 53,
   "id": "12411267-76c3-4553-93af-9b09f094f68c",
   "metadata": {},
   "outputs": [],
   "source": [
    "shop_group = shop.groupby('Size')['Purchase Amount (USD)'].sum().reset_index()"
   ]
  },
  {
   "cell_type": "code",
   "execution_count": null,
   "id": "73e280fa-7ffc-4967-8414-2cbaa9b8e48e",
   "metadata": {},
   "outputs": [],
   "source": [
    "fig  = px.bar(shop_group , x = 'Size' , y ='Purchase Amount (USD)'  )\n",
    "fig.show()"
   ]
  },
  {
   "cell_type": "markdown",
   "id": "1f94f0b5-7bc9-4fd0-8f44-7c3f4d771ee3",
   "metadata": {},
   "source": [
    "## 12 Which shipping type is preferred by customers for different product categories?"
   ]
  },
  {
   "cell_type": "code",
   "execution_count": null,
   "id": "808075d1-1618-4f89-b8f7-88fb50197f51",
   "metadata": {},
   "outputs": [],
   "source": [
    "shop.groupby('Category')['Shipping Type'].value_counts().sort_values(ascending= False)"
   ]
  },
  {
   "cell_type": "code",
   "execution_count": 56,
   "id": "89f079c5-4d27-47a8-9fb0-b67751436c70",
   "metadata": {},
   "outputs": [],
   "source": [
    "shop['Shipping_Category'] =shop['Shipping Type'].map({'Express': 0, 'Free Shipping': 1, 'Next Day Air': 2,\n",
    "                                                       'Standard': 3, '2-Day Shipping': 4, 'Store Pickup': 5})"
   ]
  },
  {
   "cell_type": "code",
   "execution_count": null,
   "id": "ce7cd03a-071f-4d4f-aaac-fe7d57baac5e",
   "metadata": {},
   "outputs": [],
   "source": [
    "shop['Category'].unique()"
   ]
  },
  {
   "cell_type": "code",
   "execution_count": 58,
   "id": "ec633055-127b-41e4-937c-ea62b9e22aa1",
   "metadata": {},
   "outputs": [],
   "source": [
    "shop['Category_num'] =shop['Category'].map({'Clothing':1, 'Footwear':2, 'Outerwear':3, 'Accessories':4})"
   ]
  },
  {
   "cell_type": "markdown",
   "id": "a81b3ad1-e49f-4ace-8a34-8aed6311492e",
   "metadata": {},
   "source": [
    "## 13 How does the presence of a discount affect the purchase decision of customers?"
   ]
  },
  {
   "cell_type": "code",
   "execution_count": null,
   "id": "1f662a61-8393-478d-aabc-72557bea874f",
   "metadata": {},
   "outputs": [],
   "source": [
    "shop.columns"
   ]
  },
  {
   "cell_type": "code",
   "execution_count": 60,
   "id": "d2211c8c-9525-46f2-8ba3-661cae1a1a9d",
   "metadata": {},
   "outputs": [],
   "source": [
    "shop_group = shop.groupby('Discount Applied')['Purchase Amount (USD)'].sum().reset_index()"
   ]
  },
  {
   "cell_type": "code",
   "execution_count": null,
   "id": "881a58b4-004c-44e9-b6f9-44a52e0bf00a",
   "metadata": {},
   "outputs": [],
   "source": [
    "px.histogram(shop_group , x = 'Discount Applied' , y = 'Purchase Amount (USD)')"
   ]
  },
  {
   "cell_type": "code",
   "execution_count": null,
   "id": "a9de61de-3eed-4a27-904e-f3538e0793c8",
   "metadata": {},
   "outputs": [],
   "source": [
    "fig = px.sunburst(shop , path = ['Gender' , 'Discount Applied'], values='Purchase Amount (USD)' , color= 'Gender')\n",
    "\n",
    "fig.show()"
   ]
  },
  {
   "cell_type": "markdown",
   "id": "37150113-a8ec-4366-aa49-d0c248c33a84",
   "metadata": {},
   "source": [
    "## 14 Are there any specific colors that are more popular among customers?"
   ]
  },
  {
   "cell_type": "code",
   "execution_count": null,
   "id": "dad4f942-1499-4054-adef-ec8c2e3c43fc",
   "metadata": {},
   "outputs": [],
   "source": [
    "px.histogram(shop , x = 'Color')"
   ]
  },
  {
   "cell_type": "code",
   "execution_count": null,
   "id": "46fb1f0c-9e9f-4e9f-8e57-d543f14a8871",
   "metadata": {},
   "outputs": [],
   "source": [
    "shop['Color'].value_counts().nlargest(5)"
   ]
  },
  {
   "cell_type": "markdown",
   "id": "cae21e0b-0e9e-44ee-aca8-fb0a6ad60afe",
   "metadata": {},
   "source": [
    "## 15 What is the average number of previous purchases made by customers?"
   ]
  },
  {
   "cell_type": "code",
   "execution_count": null,
   "id": "7819057c-f49f-4dbc-ace9-031f1e3ef807",
   "metadata": {},
   "outputs": [],
   "source": [
    "shop['Previous Purchases'].mean()"
   ]
  },
  {
   "cell_type": "markdown",
   "id": "18fd1c4b-d9e2-49f1-a995-47f2f6701850",
   "metadata": {},
   "source": [
    "## 16 Are there any noticeable differences in purchase behavior between different locations?"
   ]
  },
  {
   "cell_type": "code",
   "execution_count": null,
   "id": "a4eca1cb-86c8-4b62-a098-9c91ccce57bc",
   "metadata": {},
   "outputs": [],
   "source": [
    "shop.groupby('Location')['Purchase Amount (USD)'].mean().sort_values(ascending = False)"
   ]
  },
  {
   "cell_type": "code",
   "execution_count": 67,
   "id": "0ef53932-87d0-4bfd-a18f-b156362f86a5",
   "metadata": {},
   "outputs": [],
   "source": [
    "shop_group = shop.groupby('Location')['Purchase Amount (USD)'].mean().reset_index()"
   ]
  },
  {
   "cell_type": "code",
   "execution_count": null,
   "id": "05b3823a-13cf-42b3-bf49-b8a8d5b7c616",
   "metadata": {},
   "outputs": [],
   "source": [
    "fig = px.bar(shop_group, x = 'Location' , y = 'Purchase Amount (USD)')\n",
    "fig.show()"
   ]
  },
  {
   "cell_type": "markdown",
   "id": "92f43b8a-0b01-4265-a1fa-1efb1861ed33",
   "metadata": {},
   "source": [
    "## 17 Is there a relationship between customer age and the category of products they purchase?"
   ]
  },
  {
   "cell_type": "code",
   "execution_count": 69,
   "id": "78b19b31-8754-42fa-9589-03b22ccfcfd7",
   "metadata": {},
   "outputs": [],
   "source": [
    "shop_group = shop.groupby('Category')['Age'].mean().reset_index()"
   ]
  },
  {
   "cell_type": "code",
   "execution_count": null,
   "id": "8a959313-e2cd-40a6-88c1-3aef2a129fc4",
   "metadata": {},
   "outputs": [],
   "source": [
    "fig = px.bar(shop_group ,y = 'Age' , x= 'Category')\n",
    "fig.show()"
   ]
  },
  {
   "cell_type": "markdown",
   "id": "415ebc6d-8ed1-403d-8b89-675666eaebd6",
   "metadata": {},
   "source": [
    "## 18 How does the average purchase amount differ between male and female customers?"
   ]
  },
  {
   "cell_type": "code",
   "execution_count": 6,
   "id": "33ba11c4-2734-4b3d-9f62-5760d4ba5133",
   "metadata": {},
   "outputs": [],
   "source": [
    "shop_group = shop.groupby('Gender')['Purchase Amount (USD)'].sum().reset_index()"
   ]
  },
  {
   "cell_type": "code",
   "execution_count": null,
   "id": "4a9dedf8-db83-467e-aa7d-c869e1d837d9",
   "metadata": {},
   "outputs": [],
   "source": [
    "fig = px.bar(shop_group , x = 'Gender' , y = 'Purchase Amount (USD)')\n",
    "fig.show()"
   ]
  },
  {
   "cell_type": "code",
   "execution_count": null,
   "id": "8737d886-3ec6-4d3b-a7f8-a28b7a9de0bd",
   "metadata": {},
   "outputs": [],
   "source": [
    "px.sunburst(data_frame= shop , path = ['Gender' ,'Age'] , values='Purchase Amount (USD)')"
   ]
  },
  {
   "cell_type": "code",
   "execution_count": null,
   "id": "13c8602c-b637-4147-963c-ef153e22651f",
   "metadata": {},
   "outputs": [],
   "source": []
  },
  {
   "cell_type": "code",
   "execution_count": null,
   "id": "650b0d19",
   "metadata": {},
   "outputs": [],
   "source": []
  },
  {
   "cell_type": "code",
   "execution_count": null,
   "id": "41915766",
   "metadata": {},
   "outputs": [],
   "source": []
  }
 ],
 "metadata": {
  "kernelspec": {
   "display_name": "Python 3",
   "language": "python",
   "name": "python3"
  },
  "language_info": {
   "codemirror_mode": {
    "name": "ipython",
    "version": 3
   },
   "file_extension": ".py",
   "mimetype": "text/x-python",
   "name": "python",
   "nbconvert_exporter": "python",
   "pygments_lexer": "ipython3",
   "version": "3.13.1"
  }
 },
 "nbformat": 4,
 "nbformat_minor": 5
}
