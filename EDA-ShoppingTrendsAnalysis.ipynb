{
 "cells": [
  {
   "cell_type": "markdown",
   "id": "8e6cbbd1",
   "metadata": {},
   "source": [
    "# Shopology: Decoding Customer Shopping Trends\n",
    "---"
   ]
  },
  {
   "cell_type": "code",
   "execution_count": null,
   "id": "7f3ddbfa",
   "metadata": {},
   "outputs": [],
   "source": [
    "#installing necessary libraries\n",
    "!pip install numpy pandas seaborn matplotlib plotly"
   ]
  },
  {
   "cell_type": "code",
   "execution_count": 1,
   "id": "f28dfcd1",
   "metadata": {},
   "outputs": [],
   "source": [
    "# importing libraries\n",
    "import numpy as np # Importing the numpy library for array operations and mathematical functions\n",
    "import pandas as pd # Use for exploring the data \n",
    "import seaborn as sns # it has also plot\n",
    "import matplotlib.pyplot as plt # for some extra plot functions\n",
    "import plotly.express as px # for interactive plots"
   ]
  },
  {
   "cell_type": "code",
   "execution_count": 3,
   "id": "cb8d39f9-0a3c-4013-bfa5-3a84abd52d25",
   "metadata": {},
   "outputs": [],
   "source": [
    "# reading the data set\n",
    "shop = pd.read_csv('shopping_trends_updated.csv')"
   ]
  },
  {
   "cell_type": "code",
   "execution_count": null,
   "id": "356c8ffd-d0d5-44e1-908c-5349645ea1fc",
   "metadata": {},
   "outputs": [],
   "source": [
    "shop.shape"
   ]
  },
  {
   "cell_type": "code",
   "execution_count": null,
   "id": "5a6cf66a-a41d-4c6d-8355-675f42e24d16",
   "metadata": {},
   "outputs": [],
   "source": [
    "shop.to_excel('shopping_trends_updated.xlsx')"
   ]
  },
  {
   "cell_type": "code",
   "execution_count": null,
   "id": "e6263a95-c784-4eb4-bad9-36642d4e20c0",
   "metadata": {},
   "outputs": [],
   "source": [
    "shop.head()"
   ]
  },
  {
   "cell_type": "code",
   "execution_count": null,
   "id": "e7adee0a",
   "metadata": {},
   "outputs": [],
   "source": [
    "shop.tail()"
   ]
  },
  {
   "cell_type": "code",
   "execution_count": null,
   "id": "b8251069-bc5f-46a7-82e1-ae78f22e32f0",
   "metadata": {},
   "outputs": [],
   "source": [
    "shop.dtypes"
   ]
  },
  {
   "cell_type": "code",
   "execution_count": null,
   "id": "0c77e4d9-940c-4c67-bed0-2fa74689fc01",
   "metadata": {},
   "outputs": [],
   "source": [
    "# it shows the names of the columns \n",
    "shop.columns"
   ]
  },
  {
   "cell_type": "code",
   "execution_count": null,
   "id": "e3155654-33d5-4492-bfb2-b3b96be2db57",
   "metadata": {},
   "outputs": [],
   "source": [
    "shop.info()"
   ]
  },
  {
   "cell_type": "code",
   "execution_count": null,
   "id": "f91dc96f-9ecb-4ca3-9245-c866a44bf65e",
   "metadata": {},
   "outputs": [],
   "source": [
    "shop.isnull().sum()"
   ]
  },
  {
   "cell_type": "code",
   "execution_count": null,
   "id": "878ca58e-50c8-4401-a4dd-c338c75e3501",
   "metadata": {},
   "outputs": [],
   "source": [
    "print(f\"The unique values of the 'Gender' column are: {shop['Gender'].unique()}\")\n",
    "print()# This will print a blank line\n",
    "print(f\"The unique values of the 'Category' column are: {shop['Category'].unique()}\")\n",
    "print()# This will print a blank line\n",
    "print(f\"The unique values of the 'Size' column are: {shop['Size'].unique()}\")\n",
    "print()# This will print a blank line\n",
    "print(f\"The unique values of the 'Subscription Status' column are: {shop['Subscription Status'].unique()}\")\n",
    "print()# This will print a blank line\n",
    "print(f\"The unique values of the 'Shipping Type' column are: {shop['Shipping Type'].unique()}\")\n",
    "print()# This will print a blank line\n",
    "print(f\"The unique values of the 'Discount Applied' column are: {shop['Discount Applied'].unique()}\")\n",
    "print()# This will print a blank line\n",
    "print(f\"The unique values of the 'Promo Code Used' column are: {shop['Promo Code Used'].unique()}\")\n",
    "print()# This will print a blank line\n",
    "print(f\"The unique values of the 'Payment Method' column are: {shop['Payment Method'].unique()}\")"
   ]
  },
  {
   "cell_type": "markdown",
   "id": "cd1b9111-5969-4d7d-96e4-e30da9684a3d",
   "metadata": {},
   "source": [
    "## OBSERVATION:\n",
    "Upon initial examination of the dataset, it is evident that we have a comprehensive and well-structured dataset with 3900 rows and 18 columns. The data is complete, with no missing values, which allows us to proceed confidently with our analysis.\n",
    "\n",
    "Let's delve into the columns and their significance in understanding our custome      \n",
    "\n",
    "-  **Customer ID:** This column serves as a unique identifier for each customer, enabling us to differentiate between individuals.\n",
    "-  **Age:** The age column provides insights into the age demographics of our customers, helping us understand their preferences and behaviors.\n",
    "-  **Gender:** This column showcases the gender of the customers, enabling us to analyze buying patterns based on gender.\n",
    "-  **Item Purchased:** Here, we can identify the specific products that customers have bought, allowing us to gain an understanding of popular choices.\n",
    "-  **Category:** The category column categorizes the products into different groups such as clothing, footwear, and more, aiding us in analyzing trends within specific product categories.\n",
    "-  **Purchase Amount (USD):** This column reveals the amount customers spent on their purchases, providing insights into their spending habits.\n",
    "-  **Location:** The location column indicates the geographical location of customers, which can help identify regional trends and preferences.\n",
    "-  **Size:** This column denotes the size of the purchased products, assisting in understanding size preferences across different categories.\n",
    "-  **Color:** Here, we can determine the color preferences of customers, aiding in analyzing color trends and their impact on purchasing decisions.\n",
    "-  **Season:** The season column allows us to identify the season during which customers made their purchases, enabling us to explore seasonal shopping trends.\n",
    "-  **Review Rating:** This column showcases the ratings given by customers, providing valuable feedback on product satisfaction and quality.\n",
    "-  **Subscription Status:** This column indicates whether customers have opted for a subscription status, which can help us understand customer loyalty and engagement.\n",
    "-  **Shipping Type:** Here, we can identify the different shipping methods used to deliver products to customers, shedding light on preferred shipping options.\n",
    "-  **Discount Applied:** This column indicates whether a discount was applied to the purchased products, enabling us to analyze the impact of discounts on customer behavior.\n",
    "-  **Promo Code Used:** Here, we can identify whether customers utilized promo codes during their purchases, helping us evaluate the effectiveness of promotional campaigns.\n",
    "-  **Previous Purchases:** This column reveals the number of previous purchases made by customers, aiding in understanding customer loyalty and repeat business.\n",
    "-  **Payment Method:** The payment method column showcases the various methods used by customers to make their purchases, allowing us to analyze preferred payment options.\n",
    "-  **Frequency of Purchases:** This column provides insights into the frequency at which customers make purchases, helping us identify patterns and customer buying habits.\n",
    "\n",
    "Customer buying habits.\n",
    "With this rich and diverse dataset, we are well-equipped to explore customer shopping trends, understand their preferences, and uncover valuable insights that can drive informed decision-making and enhance the overall customer experience. Let's embark on this exciting analysis journey!\n",
    "\n"
   ]
  },
  {
   "cell_type": "markdown",
   "id": "2dae46f6-9436-4835-8199-202c22f44e40",
   "metadata": {},
   "source": [
    "## 1 What is the overall distribution of customer ages in the dataset?"
   ]
  },
  {
   "cell_type": "code",
   "execution_count": null,
   "id": "d0751254-5655-43f5-9a70-ad6389e7e23f",
   "metadata": {},
   "outputs": [],
   "source": [
    "shop['Age'].value_counts()"
   ]
  },
  {
   "cell_type": "code",
   "execution_count": null,
   "id": "a4a59f39-6b74-467d-bd44-cae9b971b787",
   "metadata": {},
   "outputs": [],
   "source": [
    "shop['Age'].mean()"
   ]
  },
  {
   "cell_type": "code",
   "execution_count": null,
   "id": "22fe6b77-0893-4b19-bb73-ee11124ed9db",
   "metadata": {},
   "outputs": [],
   "source": [
    "shop['Gender'].unique()"
   ]
  },
  {
   "cell_type": "code",
   "execution_count": 5,
   "id": "a4580d69-78f6-4743-8749-080d0c69bb6a",
   "metadata": {},
   "outputs": [],
   "source": [
    "shop['Age_category'] = pd.cut(shop['Age'], bins= [0,15, 18 , 30 , 50 , 70] , labels= ['child' , 'teen' , 'Young Adults' ,'Middle-Aged Adults' , 'old'] )"
   ]
  },
  {
   "cell_type": "code",
   "execution_count": null,
   "id": "8b0588da",
   "metadata": {},
   "outputs": [],
   "source": [
    "# installing nbformat required to run fig.show()\n",
    "%pip install nbformat"
   ]
  },
  {
   "cell_type": "code",
   "execution_count": 4,
   "id": "a4da1116",
   "metadata": {},
   "outputs": [],
   "source": [
    "# importting nbformat\n",
    "import nbformat"
   ]
  },
  {
   "cell_type": "code",
   "execution_count": null,
   "id": "f1254544-ab85-4879-9db4-563eda07c874",
   "metadata": {},
   "outputs": [],
   "source": [
    "fig = px.histogram(shop , y = 'Age' , x = 'Age_category')\n",
    "fig.show()"
   ]
  },
  {
   "cell_type": "markdown",
   "id": "90ba091a-8550-4547-9625-67fe41354078",
   "metadata": {},
   "source": [
    "## 2 How does the average purchase amount vary across different product categories?"
   ]
  },
  {
   "cell_type": "code",
   "execution_count": null,
   "id": "00968bc9-977c-4a10-bc1f-ba28b0f986c2",
   "metadata": {},
   "outputs": [],
   "source": [
    "shop.columns"
   ]
  },
  {
   "cell_type": "code",
   "execution_count": null,
   "id": "bc0195f4-6f70-481b-8100-2271a0f42d41",
   "metadata": {},
   "outputs": [],
   "source": [
    "shop['Category'].unique()"
   ]
  },
  {
   "cell_type": "code",
   "execution_count": null,
   "id": "7c5f6e1f",
   "metadata": {},
   "outputs": [],
   "source": [
    "shop['Category']"
   ]
  },
  {
   "cell_type": "code",
   "execution_count": null,
   "id": "b53b2dc1-1c15-4925-9826-1fcc269d3467",
   "metadata": {},
   "outputs": [],
   "source": [
    "shop.groupby('Category')['Purchase Amount (USD)'].mean()"
   ]
  },
  {
   "cell_type": "markdown",
   "id": "da2e803d-dd65-49ef-bd6b-b1aeda7ffbc1",
   "metadata": {},
   "source": [
    "## 3 Which gender has the highest number of purchases?"
   ]
  },
  {
   "cell_type": "code",
   "execution_count": null,
   "id": "bc63da3a-9061-44c4-88a0-0d3c04ce6dde",
   "metadata": {},
   "outputs": [],
   "source": [
    "shop.columns"
   ]
  },
  {
   "cell_type": "code",
   "execution_count": null,
   "id": "144d34b0-5fdc-455e-8d96-c6ff85c8c723",
   "metadata": {},
   "outputs": [],
   "source": [
    "sns.barplot(shop , x = 'Gender' , y = 'Purchase Amount (USD)')"
   ]
  },
  {
   "cell_type": "markdown",
   "id": "fceb1814-09d8-4f39-8d01-8e4122369ff1",
   "metadata": {},
   "source": [
    "## 4 What are the most commonly purchased items in each category?"
   ]
  },
  {
   "cell_type": "code",
   "execution_count": null,
   "id": "dd058c0d-7f51-4d86-9234-ad39ed6e03b6",
   "metadata": {},
   "outputs": [],
   "source": [
    "shop.columns"
   ]
  },
  {
   "cell_type": "code",
   "execution_count": null,
   "id": "6f895c48-7a06-4544-a605-d9e4fc16d233",
   "metadata": {},
   "outputs": [],
   "source": [
    "shop.groupby('Category')['Item Purchased'].value_counts()"
   ]
  },
  {
   "cell_type": "code",
   "execution_count": null,
   "id": "c7c9caea-d899-4cf8-88ad-39fb37e5b4e6",
   "metadata": {},
   "outputs": [],
   "source": [
    "fig = px.histogram(shop , x = 'Item Purchased' , color = 'Category')\n",
    "fig.show()"
   ]
  },
  {
   "cell_type": "markdown",
   "id": "c2d8ce2a-6a6f-4598-af78-a3128daade1c",
   "metadata": {},
   "source": [
    "## 5 Are there any specific seasons or months where customer spending is significantly higher?"
   ]
  },
  {
   "cell_type": "code",
   "execution_count": null,
   "id": "78ac5ef3-b719-4ed0-86cd-3ab41425770f",
   "metadata": {},
   "outputs": [],
   "source": [
    "shop['Season'].unique()"
   ]
  },
  {
   "cell_type": "code",
   "execution_count": null,
   "id": "c74102e4-553c-48a9-b7f0-abe118f7fa73",
   "metadata": {},
   "outputs": [],
   "source": [
    "shop[shop['Season'] == 'Summer'].value_counts().sum()"
   ]
  },
  {
   "cell_type": "code",
   "execution_count": null,
   "id": "bf8308c7-be59-4983-b0ac-e9b5ad3fcc85",
   "metadata": {},
   "outputs": [],
   "source": [
    "shop[shop['Season'] == 'Winter'].value_counts().sum()"
   ]
  },
  {
   "cell_type": "code",
   "execution_count": null,
   "id": "9cdf47f1-35dc-4e20-a981-c0a4590a6218",
   "metadata": {},
   "outputs": [],
   "source": [
    "shop[shop['Season'] == 'Spring'].value_counts().sum()"
   ]
  },
  {
   "cell_type": "code",
   "execution_count": null,
   "id": "5c53ed99-0609-46ef-8499-25a9bf001157",
   "metadata": {},
   "outputs": [],
   "source": [
    "shop[shop['Season'] == 'Fall'].value_counts().sum()"
   ]
  },
  {
   "cell_type": "code",
   "execution_count": null,
   "id": "13141c0e-3840-487a-9e09-69f015b63df5",
   "metadata": {},
   "outputs": [],
   "source": [
    "fig = px.histogram(shop , x = 'Season' , range_y= [200 , 1500] )\n",
    "\n",
    "fig.show()"
   ]
  },
  {
   "cell_type": "markdown",
   "id": "c235c070-87d6-4827-8a50-f24087bec1b8",
   "metadata": {},
   "source": [
    "## 6 What is the average rating given by customers for each product category?"
   ]
  },
  {
   "cell_type": "code",
   "execution_count": 34,
   "id": "722c8493-1667-4c9a-9d1d-2f5920ccbf43",
   "metadata": {},
   "outputs": [],
   "source": [
    "shop_groupby = shop.groupby('Category')['Review Rating'].mean().reset_index()"
   ]
  },
  {
   "cell_type": "code",
   "execution_count": null,
   "id": "556a9bf7-4b62-48f1-9d2b-79d5aadfd899",
   "metadata": {},
   "outputs": [],
   "source": [
    "fig = px.bar(shop_groupby ,x= 'Category' , y = 'Review Rating' )\n",
    "fig.show()"
   ]
  },
  {
   "cell_type": "markdown",
   "id": "a570bf66-e2d2-4ff8-85dc-94803636672b",
   "metadata": {},
   "source": [
    "## 7 Are there any notable differences in purchase behavior between subscribed and non-subscribed customers?"
   ]
  },
  {
   "cell_type": "code",
   "execution_count": null,
   "id": "2bdc867b-9c3a-4312-98fa-922a00b8c5e8",
   "metadata": {},
   "outputs": [],
   "source": [
    "shop.columns"
   ]
  },
  {
   "cell_type": "code",
   "execution_count": null,
   "id": "b8c0a3e7-ac5e-49a8-bf65-cfd50b382eef",
   "metadata": {},
   "outputs": [],
   "source": [
    "shop['Subscription Status'].unique()"
   ]
  },
  {
   "cell_type": "code",
   "execution_count": null,
   "id": "66f9f71e-0987-4bdf-84f1-aab74d91bc5f",
   "metadata": {},
   "outputs": [],
   "source": [
    "sns.barplot(shop  , x = 'Subscription Status' , y = 'Purchase Amount (USD)')"
   ]
  },
  {
   "cell_type": "code",
   "execution_count": null,
   "id": "5e13b268-37d9-42dc-80eb-8d6a5b99d537",
   "metadata": {},
   "outputs": [],
   "source": [
    "shop['Purchase Amount (USD)'].sum()"
   ]
  },
  {
   "cell_type": "code",
   "execution_count": null,
   "id": "eff4c43b-6864-41d0-98df-ccfd84909335",
   "metadata": {},
   "outputs": [],
   "source": [
    "shop.groupby('Subscription Status')['Purchase Amount (USD)'].mean()"
   ]
  },
  {
   "cell_type": "markdown",
   "id": "e1608fa3-f31e-48dd-afed-d411eed3b5c8",
   "metadata": {},
   "source": [
    "## 8 Which payment method is the most popular among customers?"
   ]
  },
  {
   "cell_type": "code",
   "execution_count": null,
   "id": "b206efc9-b92c-49d5-9a93-7246a360da71",
   "metadata": {},
   "outputs": [],
   "source": [
    "shop.groupby('Payment Method')['Purchase Amount (USD)'].mean().sort_values(ascending= False)"
   ]
  },
  {
   "cell_type": "code",
   "execution_count": 42,
   "id": "179f61b2-4598-45a9-8809-37838d2631fc",
   "metadata": {},
   "outputs": [],
   "source": [
    "shop_groupby = shop.groupby('Payment Method')['Purchase Amount (USD)'].mean().reset_index()"
   ]
  },
  {
   "cell_type": "code",
   "execution_count": null,
   "id": "92fc2bac-bdcb-4323-ae0a-4449838b83ba",
   "metadata": {},
   "outputs": [],
   "source": [
    "fig = px.bar(shop_groupby , x = 'Payment Method' , y = 'Purchase Amount (USD)')\n",
    "fig.show()"
   ]
  },
  {
   "cell_type": "code",
   "execution_count": null,
   "id": "a4fc1e99-996a-473f-a3b2-d4e48f29c299",
   "metadata": {},
   "outputs": [],
   "source": [
    "sns.barplot(shop ,x='Payment Method' , y = 'Purchase Amount (USD)')"
   ]
  },
  {
   "cell_type": "markdown",
   "id": "3fe09b80-bcba-4005-96ca-c12b735a6e12",
   "metadata": {},
   "source": [
    "## 9 Do customers who use promo codes tend to spend more than those who don't?"
   ]
  },
  {
   "cell_type": "code",
   "execution_count": 45,
   "id": "d4091829-925b-45a6-bcab-9dac0e17653b",
   "metadata": {},
   "outputs": [],
   "source": [
    "shop_groupby  = shop.groupby('Promo Code Used')['Purchase Amount (USD)'].sum().reset_index()"
   ]
  },
  {
   "cell_type": "code",
   "execution_count": null,
   "id": "c6622e5d-d561-45ae-8638-7c2103be7030",
   "metadata": {},
   "outputs": [],
   "source": [
    "fig = px.sunburst(shop , path=['Gender' , 'Promo Code Used'] , values='Purchase Amount (USD)')\n",
    "fig.show()"
   ]
  },
  {
   "cell_type": "code",
   "execution_count": null,
   "id": "2d8b4900-6932-4040-bcf9-2bd7db8d7c34",
   "metadata": {},
   "outputs": [],
   "source": [
    "fig  =  px.bar(shop_groupby , x= 'Promo Code Used' , y = 'Purchase Amount (USD)')\n",
    "fig.show()"
   ]
  },
  {
   "cell_type": "markdown",
   "id": "843e7921-345a-43ff-8cc5-27b663d571e3",
   "metadata": {},
   "source": [
    "## 10 How does the frequency of purchases vary across different age groups?"
   ]
  },
  {
   "cell_type": "code",
   "execution_count": null,
   "id": "464a8815-a0fb-469c-a514-2e66eb803cc6",
   "metadata": {},
   "outputs": [],
   "source": [
    "shop[['Age' , 'Age_category']]"
   ]
  },
  {
   "cell_type": "code",
   "execution_count": null,
   "id": "fb8f8552-0645-4388-9a41-5d55af9f9e2b",
   "metadata": {},
   "outputs": [],
   "source": [
    "shop['Age_category'].unique()"
   ]
  },
  {
   "cell_type": "code",
   "execution_count": 50,
   "id": "da345838-6cb8-4b31-934a-c383187fd817",
   "metadata": {},
   "outputs": [],
   "source": [
    "shop_group = shop.groupby('Frequency of Purchases')['Age'].sum()"
   ]
  },
  {
   "cell_type": "code",
   "execution_count": null,
   "id": "4b57b9e9-c8e8-4dc0-a1fd-459f8602c9b7",
   "metadata": {},
   "outputs": [],
   "source": [
    "px.sunburst(shop , path=['Frequency of Purchases','Age_category'] , values='Age')"
   ]
  },
  {
   "cell_type": "markdown",
   "id": "f3bf2047-439b-4c05-b2d1-559bdec27d1f",
   "metadata": {},
   "source": [
    "## 11 Are there any correlations between the size of the product and the purchase amount?"
   ]
  },
  {
   "cell_type": "code",
   "execution_count": null,
   "id": "6462feac-bc50-4a4b-9dda-6186fd46dbb9",
   "metadata": {},
   "outputs": [],
   "source": [
    "shop.columns"
   ]
  },
  {
   "cell_type": "code",
   "execution_count": 53,
   "id": "12411267-76c3-4553-93af-9b09f094f68c",
   "metadata": {},
   "outputs": [],
   "source": [
    "shop_group = shop.groupby('Size')['Purchase Amount (USD)'].sum().reset_index()"
   ]
  },
  {
   "cell_type": "code",
   "execution_count": null,
   "id": "73e280fa-7ffc-4967-8414-2cbaa9b8e48e",
   "metadata": {},
   "outputs": [],
   "source": [
    "fig  = px.bar(shop_group , x = 'Size' , y ='Purchase Amount (USD)'  )\n",
    "fig.show()"
   ]
  },
  {
   "cell_type": "markdown",
   "id": "1f94f0b5-7bc9-4fd0-8f44-7c3f4d771ee3",
   "metadata": {},
   "source": [
    "## 12 Which shipping type is preferred by customers for different product categories?"
   ]
  },
  {
   "cell_type": "code",
   "execution_count": null,
   "id": "808075d1-1618-4f89-b8f7-88fb50197f51",
   "metadata": {},
   "outputs": [],
   "source": [
    "shop.groupby('Category')['Shipping Type'].value_counts().sort_values(ascending= False)"
   ]
  },
  {
   "cell_type": "code",
   "execution_count": 56,
   "id": "89f079c5-4d27-47a8-9fb0-b67751436c70",
   "metadata": {},
   "outputs": [],
   "source": [
    "shop['Shipping_Category'] =shop['Shipping Type'].map({'Express': 0, 'Free Shipping': 1, 'Next Day Air': 2,\n",
    "                                                       'Standard': 3, '2-Day Shipping': 4, 'Store Pickup': 5})"
   ]
  },
  {
   "cell_type": "code",
   "execution_count": null,
   "id": "ce7cd03a-071f-4d4f-aaac-fe7d57baac5e",
   "metadata": {},
   "outputs": [],
   "source": [
    "shop['Category'].unique()"
   ]
  },
  {
   "cell_type": "code",
   "execution_count": 58,
   "id": "ec633055-127b-41e4-937c-ea62b9e22aa1",
   "metadata": {},
   "outputs": [],
   "source": [
    "shop['Category_num'] =shop['Category'].map({'Clothing':1, 'Footwear':2, 'Outerwear':3, 'Accessories':4})"
   ]
  },
  {
   "cell_type": "markdown",
   "id": "a81b3ad1-e49f-4ace-8a34-8aed6311492e",
   "metadata": {},
   "source": [
    "## 13 How does the presence of a discount affect the purchase decision of customers?"
   ]
  },
  {
   "cell_type": "code",
   "execution_count": null,
   "id": "1f662a61-8393-478d-aabc-72557bea874f",
   "metadata": {},
   "outputs": [],
   "source": [
    "shop.columns"
   ]
  },
  {
   "cell_type": "code",
   "execution_count": 60,
   "id": "d2211c8c-9525-46f2-8ba3-661cae1a1a9d",
   "metadata": {},
   "outputs": [],
   "source": [
    "shop_group = shop.groupby('Discount Applied')['Purchase Amount (USD)'].sum().reset_index()"
   ]
  },
  {
   "cell_type": "code",
   "execution_count": null,
   "id": "881a58b4-004c-44e9-b6f9-44a52e0bf00a",
   "metadata": {},
   "outputs": [],
   "source": [
    "px.histogram(shop_group , x = 'Discount Applied' , y = 'Purchase Amount (USD)')"
   ]
  },
  {
   "cell_type": "code",
   "execution_count": null,
   "id": "a9de61de-3eed-4a27-904e-f3538e0793c8",
   "metadata": {},
   "outputs": [],
   "source": [
    "fig = px.sunburst(shop , path = ['Gender' , 'Discount Applied'], values='Purchase Amount (USD)' , color= 'Gender')\n",
    "\n",
    "fig.show()"
   ]
  },
  {
   "cell_type": "markdown",
   "id": "37150113-a8ec-4366-aa49-d0c248c33a84",
   "metadata": {},
   "source": [
    "## 14 Are there any specific colors that are more popular among customers?"
   ]
  },
  {
   "cell_type": "code",
   "execution_count": null,
   "id": "dad4f942-1499-4054-adef-ec8c2e3c43fc",
   "metadata": {},
   "outputs": [],
   "source": [
    "px.histogram(shop , x = 'Color')"
   ]
  },
  {
   "cell_type": "code",
   "execution_count": null,
   "id": "46fb1f0c-9e9f-4e9f-8e57-d543f14a8871",
   "metadata": {},
   "outputs": [],
   "source": [
    "shop['Color'].value_counts().nlargest(5)"
   ]
  },
  {
   "cell_type": "markdown",
   "id": "cae21e0b-0e9e-44ee-aca8-fb0a6ad60afe",
   "metadata": {},
   "source": [
    "## 15 What is the average number of previous purchases made by customers?"
   ]
  },
  {
   "cell_type": "code",
   "execution_count": null,
   "id": "7819057c-f49f-4dbc-ace9-031f1e3ef807",
   "metadata": {},
   "outputs": [],
   "source": [
    "shop['Previous Purchases'].mean()"
   ]
  },
  {
   "cell_type": "markdown",
   "id": "18fd1c4b-d9e2-49f1-a995-47f2f6701850",
   "metadata": {},
   "source": [
    "## 16 Are there any noticeable differences in purchase behavior between different locations?"
   ]
  },
  {
   "cell_type": "code",
   "execution_count": null,
   "id": "a4eca1cb-86c8-4b62-a098-9c91ccce57bc",
   "metadata": {},
   "outputs": [],
   "source": [
    "shop.groupby('Location')['Purchase Amount (USD)'].mean().sort_values(ascending = False)"
   ]
  },
  {
   "cell_type": "code",
   "execution_count": 67,
   "id": "0ef53932-87d0-4bfd-a18f-b156362f86a5",
   "metadata": {},
   "outputs": [],
   "source": [
    "shop_group = shop.groupby('Location')['Purchase Amount (USD)'].mean().reset_index()"
   ]
  },
  {
   "cell_type": "code",
   "execution_count": null,
   "id": "05b3823a-13cf-42b3-bf49-b8a8d5b7c616",
   "metadata": {},
   "outputs": [],
   "source": [
    "fig = px.bar(shop_group, x = 'Location' , y = 'Purchase Amount (USD)')\n",
    "fig.show()"
   ]
  },
  {
   "cell_type": "markdown",
   "id": "92f43b8a-0b01-4265-a1fa-1efb1861ed33",
   "metadata": {},
   "source": [
    "## 17 Is there a relationship between customer age and the category of products they purchase?"
   ]
  },
  {
   "cell_type": "code",
   "execution_count": 69,
   "id": "78b19b31-8754-42fa-9589-03b22ccfcfd7",
   "metadata": {},
   "outputs": [],
   "source": [
    "shop_group = shop.groupby('Category')['Age'].mean().reset_index()"
   ]
  },
  {
   "cell_type": "code",
   "execution_count": null,
   "id": "8a959313-e2cd-40a6-88c1-3aef2a129fc4",
   "metadata": {},
   "outputs": [],
   "source": [
    "fig = px.bar(shop_group ,y = 'Age' , x= 'Category')\n",
    "fig.show()"
   ]
  },
  {
   "cell_type": "markdown",
   "id": "415ebc6d-8ed1-403d-8b89-675666eaebd6",
   "metadata": {},
   "source": [
    "## 18 How does the average purchase amount differ between male and female customers?"
   ]
  },
  {
   "cell_type": "code",
   "execution_count": 6,
   "id": "33ba11c4-2734-4b3d-9f62-5760d4ba5133",
   "metadata": {},
   "outputs": [],
   "source": [
    "shop_group = shop.groupby('Gender')['Purchase Amount (USD)'].sum().reset_index()"
   ]
  },
  {
   "cell_type": "code",
   "execution_count": null,
   "id": "4a9dedf8-db83-467e-aa7d-c869e1d837d9",
   "metadata": {},
   "outputs": [],
   "source": [
    "fig = px.bar(shop_group , x = 'Gender' , y = 'Purchase Amount (USD)')\n",
    "fig.show()"
   ]
  },
  {
   "cell_type": "code",
   "execution_count": null,
   "id": "8737d886-3ec6-4d3b-a7f8-a28b7a9de0bd",
   "metadata": {},
   "outputs": [],
   "source": [
    "px.sunburst(data_frame= shop , path = ['Gender' ,'Age'] , values='Purchase Amount (USD)')"
   ]
  },
  {
   "cell_type": "code",
   "execution_count": null,
   "id": "13c8602c-b637-4147-963c-ef153e22651f",
   "metadata": {},
   "outputs": [],
   "source": []
  },
  {
   "cell_type": "code",
   "execution_count": null,
   "id": "650b0d19",
   "metadata": {},
   "outputs": [],
   "source": []
  },
  {
   "cell_type": "code",
   "execution_count": null,
   "id": "41915766",
   "metadata": {},
   "outputs": [],
   "source": []
  }
 ],
 "metadata": {
  "kernelspec": {
   "display_name": "Python 3",
   "language": "python",
   "name": "python3"
  },
  "language_info": {
   "codemirror_mode": {
    "name": "ipython",
    "version": 3
   },
   "file_extension": ".py",
   "mimetype": "text/x-python",
   "name": "python",
   "nbconvert_exporter": "python",
   "pygments_lexer": "ipython3",
   "version": "3.13.1"
  }
 },
 "nbformat": 4,
 "nbformat_minor": 5
}
